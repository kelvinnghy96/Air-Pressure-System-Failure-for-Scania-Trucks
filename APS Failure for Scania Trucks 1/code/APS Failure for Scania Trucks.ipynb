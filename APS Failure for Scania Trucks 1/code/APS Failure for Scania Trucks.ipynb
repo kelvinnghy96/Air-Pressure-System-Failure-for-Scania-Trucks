{
 "cells": [
  {
   "cell_type": "markdown",
   "id": "e0649109",
   "metadata": {},
   "source": [
    "# Air Pressure System (APS) Failure for Scania Trucks  \n",
    "**Predict Failures and Minimize Costs based on Sensor Readings**"
   ]
  },
  {
   "cell_type": "markdown",
   "id": "b22fb23d",
   "metadata": {},
   "source": [
    "## 1. DATA PREPROCESSING"
   ]
  },
  {
   "cell_type": "markdown",
   "id": "be860620",
   "metadata": {},
   "source": [
    "**DOWNLOAD DATA**\n",
    "\n",
    "Download train data and test data from https://archive.ics.uci.edu/ml/machine-learning-databases/00421/"
   ]
  },
  {
   "cell_type": "markdown",
   "id": "bfa436dd",
   "metadata": {},
   "source": [
    "**IMPORT LIBRARY**"
   ]
  },
  {
   "cell_type": "code",
   "execution_count": 2,
   "id": "4f68c4bd",
   "metadata": {},
   "outputs": [],
   "source": [
    "import pandas as pd\n",
    "import seaborn as sns\n",
    "import numpy as np\n",
    "import matplotlib.pyplot as plt\n",
    "\n",
    "from sklearn import preprocessing\n",
    "from sklearn.linear_model import LogisticRegression\n",
    "from sklearn.preprocessing import StandardScaler\n",
    "from sklearn.preprocessing import LabelEncoder\n",
    "from sklearn.feature_selection import SelectFromModel\n",
    "from sklearn.metrics import make_scorer\n",
    "from sklearn.metrics import confusion_matrix\n",
    "from sklearn.metrics import classification_report\n",
    "\n",
    "from imblearn.over_sampling import SMOTE"
   ]
  },
  {
   "cell_type": "markdown",
   "id": "10529f07",
   "metadata": {},
   "source": [
    "**SET SEED**"
   ]
  },
  {
   "cell_type": "code",
   "execution_count": 3,
   "id": "65138ffa",
   "metadata": {},
   "outputs": [],
   "source": [
    "np.random.seed(2022)"
   ]
  },
  {
   "cell_type": "markdown",
   "id": "ecce1f4d",
   "metadata": {},
   "source": [
    "**IMPORT DATA**  \n",
    "Import train data and test data from .csv file downloaded."
   ]
  },
  {
   "cell_type": "markdown",
   "id": "8068fbe1",
   "metadata": {},
   "source": [
    "> ***Train Data***"
   ]
  },
  {
   "cell_type": "code",
   "execution_count": 4,
   "id": "d4fe86f1",
   "metadata": {
    "scrolled": false
   },
   "outputs": [
    {
     "data": {
      "text/html": [
       "<div>\n",
       "<style scoped>\n",
       "    .dataframe tbody tr th:only-of-type {\n",
       "        vertical-align: middle;\n",
       "    }\n",
       "\n",
       "    .dataframe tbody tr th {\n",
       "        vertical-align: top;\n",
       "    }\n",
       "\n",
       "    .dataframe thead th {\n",
       "        text-align: right;\n",
       "    }\n",
       "</style>\n",
       "<table border=\"1\" class=\"dataframe\">\n",
       "  <thead>\n",
       "    <tr style=\"text-align: right;\">\n",
       "      <th></th>\n",
       "      <th>class</th>\n",
       "      <th>aa_000</th>\n",
       "      <th>ab_000</th>\n",
       "      <th>ac_000</th>\n",
       "      <th>ad_000</th>\n",
       "      <th>ae_000</th>\n",
       "      <th>af_000</th>\n",
       "      <th>ag_000</th>\n",
       "      <th>ag_001</th>\n",
       "      <th>ag_002</th>\n",
       "      <th>...</th>\n",
       "      <th>ee_002</th>\n",
       "      <th>ee_003</th>\n",
       "      <th>ee_004</th>\n",
       "      <th>ee_005</th>\n",
       "      <th>ee_006</th>\n",
       "      <th>ee_007</th>\n",
       "      <th>ee_008</th>\n",
       "      <th>ee_009</th>\n",
       "      <th>ef_000</th>\n",
       "      <th>eg_000</th>\n",
       "    </tr>\n",
       "  </thead>\n",
       "  <tbody>\n",
       "    <tr>\n",
       "      <th>0</th>\n",
       "      <td>neg</td>\n",
       "      <td>76698</td>\n",
       "      <td>NaN</td>\n",
       "      <td>2.130706e+09</td>\n",
       "      <td>280.0</td>\n",
       "      <td>0.0</td>\n",
       "      <td>0.0</td>\n",
       "      <td>0.0</td>\n",
       "      <td>0.0</td>\n",
       "      <td>0.0</td>\n",
       "      <td>...</td>\n",
       "      <td>1240520.0</td>\n",
       "      <td>493384.0</td>\n",
       "      <td>721044.0</td>\n",
       "      <td>469792.0</td>\n",
       "      <td>339156.0</td>\n",
       "      <td>157956.0</td>\n",
       "      <td>73224.0</td>\n",
       "      <td>0.0</td>\n",
       "      <td>0.0</td>\n",
       "      <td>0.0</td>\n",
       "    </tr>\n",
       "    <tr>\n",
       "      <th>1</th>\n",
       "      <td>neg</td>\n",
       "      <td>33058</td>\n",
       "      <td>NaN</td>\n",
       "      <td>0.000000e+00</td>\n",
       "      <td>NaN</td>\n",
       "      <td>0.0</td>\n",
       "      <td>0.0</td>\n",
       "      <td>0.0</td>\n",
       "      <td>0.0</td>\n",
       "      <td>0.0</td>\n",
       "      <td>...</td>\n",
       "      <td>421400.0</td>\n",
       "      <td>178064.0</td>\n",
       "      <td>293306.0</td>\n",
       "      <td>245416.0</td>\n",
       "      <td>133654.0</td>\n",
       "      <td>81140.0</td>\n",
       "      <td>97576.0</td>\n",
       "      <td>1500.0</td>\n",
       "      <td>0.0</td>\n",
       "      <td>0.0</td>\n",
       "    </tr>\n",
       "    <tr>\n",
       "      <th>2</th>\n",
       "      <td>neg</td>\n",
       "      <td>41040</td>\n",
       "      <td>NaN</td>\n",
       "      <td>2.280000e+02</td>\n",
       "      <td>100.0</td>\n",
       "      <td>0.0</td>\n",
       "      <td>0.0</td>\n",
       "      <td>0.0</td>\n",
       "      <td>0.0</td>\n",
       "      <td>0.0</td>\n",
       "      <td>...</td>\n",
       "      <td>277378.0</td>\n",
       "      <td>159812.0</td>\n",
       "      <td>423992.0</td>\n",
       "      <td>409564.0</td>\n",
       "      <td>320746.0</td>\n",
       "      <td>158022.0</td>\n",
       "      <td>95128.0</td>\n",
       "      <td>514.0</td>\n",
       "      <td>0.0</td>\n",
       "      <td>0.0</td>\n",
       "    </tr>\n",
       "    <tr>\n",
       "      <th>3</th>\n",
       "      <td>neg</td>\n",
       "      <td>12</td>\n",
       "      <td>0.0</td>\n",
       "      <td>7.000000e+01</td>\n",
       "      <td>66.0</td>\n",
       "      <td>0.0</td>\n",
       "      <td>10.0</td>\n",
       "      <td>0.0</td>\n",
       "      <td>0.0</td>\n",
       "      <td>0.0</td>\n",
       "      <td>...</td>\n",
       "      <td>240.0</td>\n",
       "      <td>46.0</td>\n",
       "      <td>58.0</td>\n",
       "      <td>44.0</td>\n",
       "      <td>10.0</td>\n",
       "      <td>0.0</td>\n",
       "      <td>0.0</td>\n",
       "      <td>0.0</td>\n",
       "      <td>4.0</td>\n",
       "      <td>32.0</td>\n",
       "    </tr>\n",
       "    <tr>\n",
       "      <th>4</th>\n",
       "      <td>neg</td>\n",
       "      <td>60874</td>\n",
       "      <td>NaN</td>\n",
       "      <td>1.368000e+03</td>\n",
       "      <td>458.0</td>\n",
       "      <td>0.0</td>\n",
       "      <td>0.0</td>\n",
       "      <td>0.0</td>\n",
       "      <td>0.0</td>\n",
       "      <td>0.0</td>\n",
       "      <td>...</td>\n",
       "      <td>622012.0</td>\n",
       "      <td>229790.0</td>\n",
       "      <td>405298.0</td>\n",
       "      <td>347188.0</td>\n",
       "      <td>286954.0</td>\n",
       "      <td>311560.0</td>\n",
       "      <td>433954.0</td>\n",
       "      <td>1218.0</td>\n",
       "      <td>0.0</td>\n",
       "      <td>0.0</td>\n",
       "    </tr>\n",
       "  </tbody>\n",
       "</table>\n",
       "<p>5 rows × 171 columns</p>\n",
       "</div>"
      ],
      "text/plain": [
       "  class  aa_000  ab_000        ac_000  ad_000  ae_000  af_000  ag_000  ag_001  \\\n",
       "0   neg   76698     NaN  2.130706e+09   280.0     0.0     0.0     0.0     0.0   \n",
       "1   neg   33058     NaN  0.000000e+00     NaN     0.0     0.0     0.0     0.0   \n",
       "2   neg   41040     NaN  2.280000e+02   100.0     0.0     0.0     0.0     0.0   \n",
       "3   neg      12     0.0  7.000000e+01    66.0     0.0    10.0     0.0     0.0   \n",
       "4   neg   60874     NaN  1.368000e+03   458.0     0.0     0.0     0.0     0.0   \n",
       "\n",
       "   ag_002  ...     ee_002    ee_003    ee_004    ee_005    ee_006    ee_007  \\\n",
       "0     0.0  ...  1240520.0  493384.0  721044.0  469792.0  339156.0  157956.0   \n",
       "1     0.0  ...   421400.0  178064.0  293306.0  245416.0  133654.0   81140.0   \n",
       "2     0.0  ...   277378.0  159812.0  423992.0  409564.0  320746.0  158022.0   \n",
       "3     0.0  ...      240.0      46.0      58.0      44.0      10.0       0.0   \n",
       "4     0.0  ...   622012.0  229790.0  405298.0  347188.0  286954.0  311560.0   \n",
       "\n",
       "     ee_008  ee_009  ef_000  eg_000  \n",
       "0   73224.0     0.0     0.0     0.0  \n",
       "1   97576.0  1500.0     0.0     0.0  \n",
       "2   95128.0   514.0     0.0     0.0  \n",
       "3       0.0     0.0     4.0    32.0  \n",
       "4  433954.0  1218.0     0.0     0.0  \n",
       "\n",
       "[5 rows x 171 columns]"
      ]
     },
     "execution_count": 4,
     "metadata": {},
     "output_type": "execute_result"
    }
   ],
   "source": [
    "train_data = pd.read_csv('../data/aps_failure_training_set.csv',skiprows=20,na_values=\"na\")\n",
    "train_data.head()"
   ]
  },
  {
   "cell_type": "markdown",
   "id": "38af2b36",
   "metadata": {},
   "source": [
    "> ***Test Data***"
   ]
  },
  {
   "cell_type": "code",
   "execution_count": 5,
   "id": "380f7586",
   "metadata": {},
   "outputs": [
    {
     "data": {
      "text/html": [
       "<div>\n",
       "<style scoped>\n",
       "    .dataframe tbody tr th:only-of-type {\n",
       "        vertical-align: middle;\n",
       "    }\n",
       "\n",
       "    .dataframe tbody tr th {\n",
       "        vertical-align: top;\n",
       "    }\n",
       "\n",
       "    .dataframe thead th {\n",
       "        text-align: right;\n",
       "    }\n",
       "</style>\n",
       "<table border=\"1\" class=\"dataframe\">\n",
       "  <thead>\n",
       "    <tr style=\"text-align: right;\">\n",
       "      <th></th>\n",
       "      <th>class</th>\n",
       "      <th>aa_000</th>\n",
       "      <th>ab_000</th>\n",
       "      <th>ac_000</th>\n",
       "      <th>ad_000</th>\n",
       "      <th>ae_000</th>\n",
       "      <th>af_000</th>\n",
       "      <th>ag_000</th>\n",
       "      <th>ag_001</th>\n",
       "      <th>ag_002</th>\n",
       "      <th>...</th>\n",
       "      <th>ee_002</th>\n",
       "      <th>ee_003</th>\n",
       "      <th>ee_004</th>\n",
       "      <th>ee_005</th>\n",
       "      <th>ee_006</th>\n",
       "      <th>ee_007</th>\n",
       "      <th>ee_008</th>\n",
       "      <th>ee_009</th>\n",
       "      <th>ef_000</th>\n",
       "      <th>eg_000</th>\n",
       "    </tr>\n",
       "  </thead>\n",
       "  <tbody>\n",
       "    <tr>\n",
       "      <th>0</th>\n",
       "      <td>neg</td>\n",
       "      <td>60</td>\n",
       "      <td>0.0</td>\n",
       "      <td>20.0</td>\n",
       "      <td>12.0</td>\n",
       "      <td>0.0</td>\n",
       "      <td>0.0</td>\n",
       "      <td>0.0</td>\n",
       "      <td>0.0</td>\n",
       "      <td>0.0</td>\n",
       "      <td>...</td>\n",
       "      <td>1098.0</td>\n",
       "      <td>138.0</td>\n",
       "      <td>412.0</td>\n",
       "      <td>654.0</td>\n",
       "      <td>78.0</td>\n",
       "      <td>88.0</td>\n",
       "      <td>0.0</td>\n",
       "      <td>0.0</td>\n",
       "      <td>0.0</td>\n",
       "      <td>0.0</td>\n",
       "    </tr>\n",
       "    <tr>\n",
       "      <th>1</th>\n",
       "      <td>neg</td>\n",
       "      <td>82</td>\n",
       "      <td>0.0</td>\n",
       "      <td>68.0</td>\n",
       "      <td>40.0</td>\n",
       "      <td>0.0</td>\n",
       "      <td>0.0</td>\n",
       "      <td>0.0</td>\n",
       "      <td>0.0</td>\n",
       "      <td>0.0</td>\n",
       "      <td>...</td>\n",
       "      <td>1068.0</td>\n",
       "      <td>276.0</td>\n",
       "      <td>1620.0</td>\n",
       "      <td>116.0</td>\n",
       "      <td>86.0</td>\n",
       "      <td>462.0</td>\n",
       "      <td>0.0</td>\n",
       "      <td>0.0</td>\n",
       "      <td>0.0</td>\n",
       "      <td>0.0</td>\n",
       "    </tr>\n",
       "    <tr>\n",
       "      <th>2</th>\n",
       "      <td>neg</td>\n",
       "      <td>66002</td>\n",
       "      <td>2.0</td>\n",
       "      <td>212.0</td>\n",
       "      <td>112.0</td>\n",
       "      <td>0.0</td>\n",
       "      <td>0.0</td>\n",
       "      <td>0.0</td>\n",
       "      <td>0.0</td>\n",
       "      <td>0.0</td>\n",
       "      <td>...</td>\n",
       "      <td>495076.0</td>\n",
       "      <td>380368.0</td>\n",
       "      <td>440134.0</td>\n",
       "      <td>269556.0</td>\n",
       "      <td>1315022.0</td>\n",
       "      <td>153680.0</td>\n",
       "      <td>516.0</td>\n",
       "      <td>0.0</td>\n",
       "      <td>0.0</td>\n",
       "      <td>0.0</td>\n",
       "    </tr>\n",
       "    <tr>\n",
       "      <th>3</th>\n",
       "      <td>neg</td>\n",
       "      <td>59816</td>\n",
       "      <td>NaN</td>\n",
       "      <td>1010.0</td>\n",
       "      <td>936.0</td>\n",
       "      <td>0.0</td>\n",
       "      <td>0.0</td>\n",
       "      <td>0.0</td>\n",
       "      <td>0.0</td>\n",
       "      <td>0.0</td>\n",
       "      <td>...</td>\n",
       "      <td>540820.0</td>\n",
       "      <td>243270.0</td>\n",
       "      <td>483302.0</td>\n",
       "      <td>485332.0</td>\n",
       "      <td>431376.0</td>\n",
       "      <td>210074.0</td>\n",
       "      <td>281662.0</td>\n",
       "      <td>3232.0</td>\n",
       "      <td>0.0</td>\n",
       "      <td>0.0</td>\n",
       "    </tr>\n",
       "    <tr>\n",
       "      <th>4</th>\n",
       "      <td>neg</td>\n",
       "      <td>1814</td>\n",
       "      <td>NaN</td>\n",
       "      <td>156.0</td>\n",
       "      <td>140.0</td>\n",
       "      <td>0.0</td>\n",
       "      <td>0.0</td>\n",
       "      <td>0.0</td>\n",
       "      <td>0.0</td>\n",
       "      <td>0.0</td>\n",
       "      <td>...</td>\n",
       "      <td>7646.0</td>\n",
       "      <td>4144.0</td>\n",
       "      <td>18466.0</td>\n",
       "      <td>49782.0</td>\n",
       "      <td>3176.0</td>\n",
       "      <td>482.0</td>\n",
       "      <td>76.0</td>\n",
       "      <td>0.0</td>\n",
       "      <td>0.0</td>\n",
       "      <td>0.0</td>\n",
       "    </tr>\n",
       "  </tbody>\n",
       "</table>\n",
       "<p>5 rows × 171 columns</p>\n",
       "</div>"
      ],
      "text/plain": [
       "  class  aa_000  ab_000  ac_000  ad_000  ae_000  af_000  ag_000  ag_001  \\\n",
       "0   neg      60     0.0    20.0    12.0     0.0     0.0     0.0     0.0   \n",
       "1   neg      82     0.0    68.0    40.0     0.0     0.0     0.0     0.0   \n",
       "2   neg   66002     2.0   212.0   112.0     0.0     0.0     0.0     0.0   \n",
       "3   neg   59816     NaN  1010.0   936.0     0.0     0.0     0.0     0.0   \n",
       "4   neg    1814     NaN   156.0   140.0     0.0     0.0     0.0     0.0   \n",
       "\n",
       "   ag_002  ...    ee_002    ee_003    ee_004    ee_005     ee_006    ee_007  \\\n",
       "0     0.0  ...    1098.0     138.0     412.0     654.0       78.0      88.0   \n",
       "1     0.0  ...    1068.0     276.0    1620.0     116.0       86.0     462.0   \n",
       "2     0.0  ...  495076.0  380368.0  440134.0  269556.0  1315022.0  153680.0   \n",
       "3     0.0  ...  540820.0  243270.0  483302.0  485332.0   431376.0  210074.0   \n",
       "4     0.0  ...    7646.0    4144.0   18466.0   49782.0     3176.0     482.0   \n",
       "\n",
       "     ee_008  ee_009  ef_000  eg_000  \n",
       "0       0.0     0.0     0.0     0.0  \n",
       "1       0.0     0.0     0.0     0.0  \n",
       "2     516.0     0.0     0.0     0.0  \n",
       "3  281662.0  3232.0     0.0     0.0  \n",
       "4      76.0     0.0     0.0     0.0  \n",
       "\n",
       "[5 rows x 171 columns]"
      ]
     },
     "execution_count": 5,
     "metadata": {},
     "output_type": "execute_result"
    }
   ],
   "source": [
    "test_data = pd.read_csv('../data/aps_failure_test_set.csv',skiprows=20,na_values=\"na\")\n",
    "test_data.head()"
   ]
  },
  {
   "cell_type": "markdown",
   "id": "009125b0",
   "metadata": {},
   "source": [
    "### TRAIN DATA PREPROCESSING"
   ]
  },
  {
   "cell_type": "markdown",
   "id": "b48269cb",
   "metadata": {},
   "source": [
    "**MISSING VALUE**"
   ]
  },
  {
   "cell_type": "code",
   "execution_count": 6,
   "id": "9a4427f4",
   "metadata": {
    "scrolled": true
   },
   "outputs": [
    {
     "data": {
      "image/png": "[encoded data removed]",
      "text/plain": [
       "<Figure size 1080x360 with 1 Axes>"
      ]
     },
     "metadata": {
      "needs_background": "light"
     },
     "output_type": "display_data"
    }
   ],
   "source": [
    "fig, ax = plt.subplots(figsize=(15,5))\n",
    "threshold = 30\n",
    "\n",
    "# Calculate % of missing values for each attribute\n",
    "missing = train_data.isna().sum().div(train_data.shape[0]).mul(100).to_frame().sort_values(by=0,ascending = False )\n",
    "\n",
    "ax.bar(missing.index, missing.values.T[0])\n",
    "plt.title(\"Percentage of Missing Values in each Attribute\")\n",
    "plt.xticks([])\n",
    "plt.xlabel(\"Attributes\")\n",
    "plt.ylabel(\"Percentage missing\")\n",
    "plt.axhline(threshold, color='red', ls='dotted')\n",
    "plt.show()"
   ]
  },
  {
   "cell_type": "markdown",
   "id": "fa640c50",
   "metadata": {},
   "source": [
    "Count amount of columns that contain missing values more than 30%."
   ]
  },
  {
   "cell_type": "code",
   "execution_count": 32,
   "id": "7a54de74",
   "metadata": {
    "scrolled": false
   },
   "outputs": [
    {
     "name": "stdout",
     "output_type": "stream",
     "text": [
      "There are 10 columns contain missing values more than 30%.\n"
     ]
    }
   ],
   "source": [
    "# Store index of columns that contain missing values more than threshold.\n",
    "cols_missing_30 = missing[missing[0]>30].index\n",
    "no_cols_na = len(cols_missing_30)\n",
    "\n",
    "# Count and print amount of column more than threshold.\n",
    "print(\"There are {0} columns contain missing values more than {1}%.\".format(no_cols_na,threshold))"
   ]
  },
  {
   "cell_type": "code",
   "execution_count": 31,
   "id": "b7ef8f6b",
   "metadata": {
    "scrolled": false
   },
   "outputs": [
    {
     "data": {
      "text/plain": [
       "Index(['br_000', 'bq_000', 'bp_000', 'bo_000', 'ab_000', 'cr_000', 'bn_000',\n",
       "       'bm_000', 'bl_000', 'bk_000'],\n",
       "      dtype='object')"
      ]
     },
     "execution_count": 31,
     "metadata": {},
     "output_type": "execute_result"
    }
   ],
   "source": [
    "cols_missing_30"
   ]
  },
  {
   "cell_type": "markdown",
   "id": "0ad1af8c",
   "metadata": {},
   "source": [
    "**DROP COLUMNS**  \n",
    "Drop columns that contain missing values more than 30%."
   ]
  },
  {
   "cell_type": "code",
   "execution_count": 8,
   "id": "02d5f16b",
   "metadata": {
    "scrolled": true
   },
   "outputs": [
    {
     "data": {
      "text/plain": [
       "(60000, 161)"
      ]
     },
     "execution_count": 8,
     "metadata": {},
     "output_type": "execute_result"
    }
   ],
   "source": [
    "# Drop columns that contain missing values more than 30%.\n",
    "train_data_drp30 = train_data.drop(cols_missing_30, axis=1)\n",
    "\n",
    "# Validate only selected column is removed.\n",
    "train_data_drp30.shape"
   ]
  },
  {
   "cell_type": "markdown",
   "id": "4505ac01",
   "metadata": {},
   "source": [
    "**REPLACE MISSING VALUES**  \n",
    "Replace leftover missing values with median."
   ]
  },
  {
   "cell_type": "code",
   "execution_count": 9,
   "id": "8edfcfc8",
   "metadata": {},
   "outputs": [
    {
     "data": {
      "text/plain": [
       "0"
      ]
     },
     "execution_count": 9,
     "metadata": {},
     "output_type": "execute_result"
    }
   ],
   "source": [
    "# Replace leftover missing values with median.\n",
    "train_data_fillna = train_data_drp30.fillna(train_data_drp30.median(), inplace=False)\n",
    "\n",
    "# Validate no missing values left\n",
    "train_data_fillna.isnull().sum().sum()"
   ]
  },
  {
   "cell_type": "markdown",
   "id": "d2da7f9e",
   "metadata": {},
   "source": [
    "**ENCODING CATEGORICAL DATA**  \n",
    "Encode categorical data into numeric type data."
   ]
  },
  {
   "cell_type": "code",
   "execution_count": 10,
   "id": "5422f57c",
   "metadata": {
    "scrolled": true
   },
   "outputs": [
    {
     "name": "stdout",
     "output_type": "stream",
     "text": [
      "<class 'pandas.core.frame.DataFrame'>\n",
      "RangeIndex: 60000 entries, 0 to 59999\n",
      "Columns: 161 entries, class to eg_000\n",
      "dtypes: float64(159), int64(1), object(1)\n",
      "memory usage: 73.7+ MB\n"
     ]
    },
    {
     "data": {
      "text/plain": [
       "neg    59000\n",
       "pos     1000\n",
       "Name: class, dtype: int64"
      ]
     },
     "execution_count": 10,
     "metadata": {},
     "output_type": "execute_result"
    }
   ],
   "source": [
    "# Check categorical column in data\n",
    "train_data_fillna.info()\n",
    "train_data_fillna['class'].value_counts()"
   ]
  },
  {
   "cell_type": "code",
   "execution_count": 11,
   "id": "b21fce11",
   "metadata": {
    "scrolled": false
   },
   "outputs": [
    {
     "name": "stdout",
     "output_type": "stream",
     "text": [
      "<class 'pandas.core.frame.DataFrame'>\n",
      "RangeIndex: 60000 entries, 0 to 59999\n",
      "Columns: 161 entries, class to eg_000\n",
      "dtypes: float64(159), int64(2)\n",
      "memory usage: 73.7 MB\n"
     ]
    }
   ],
   "source": [
    "# Replace class label from (neg,pos) to (0,1)\n",
    "train_data_encode = train_data_fillna.replace('neg',0).replace('pos',1)\n",
    "\n",
    "# Validate no categorical data left.\n",
    "train_data_encode.info()"
   ]
  },
  {
   "cell_type": "markdown",
   "id": "92e7b32d",
   "metadata": {},
   "source": [
    "**SPLIT TARGET VARIABLE IN TRAIN DATA**  \n",
    "Split train data to x_train and y_train"
   ]
  },
  {
   "cell_type": "code",
   "execution_count": 12,
   "id": "4bf47818",
   "metadata": {
    "scrolled": false
   },
   "outputs": [
    {
     "data": {
      "text/html": [
       "<div>\n",
       "<style scoped>\n",
       "    .dataframe tbody tr th:only-of-type {\n",
       "        vertical-align: middle;\n",
       "    }\n",
       "\n",
       "    .dataframe tbody tr th {\n",
       "        vertical-align: top;\n",
       "    }\n",
       "\n",
       "    .dataframe thead th {\n",
       "        text-align: right;\n",
       "    }\n",
       "</style>\n",
       "<table border=\"1\" class=\"dataframe\">\n",
       "  <thead>\n",
       "    <tr style=\"text-align: right;\">\n",
       "      <th></th>\n",
       "      <th>aa_000</th>\n",
       "      <th>ac_000</th>\n",
       "      <th>ad_000</th>\n",
       "      <th>ae_000</th>\n",
       "      <th>af_000</th>\n",
       "      <th>ag_000</th>\n",
       "      <th>ag_001</th>\n",
       "      <th>ag_002</th>\n",
       "      <th>ag_003</th>\n",
       "      <th>ag_004</th>\n",
       "      <th>...</th>\n",
       "      <th>ee_002</th>\n",
       "      <th>ee_003</th>\n",
       "      <th>ee_004</th>\n",
       "      <th>ee_005</th>\n",
       "      <th>ee_006</th>\n",
       "      <th>ee_007</th>\n",
       "      <th>ee_008</th>\n",
       "      <th>ee_009</th>\n",
       "      <th>ef_000</th>\n",
       "      <th>eg_000</th>\n",
       "    </tr>\n",
       "  </thead>\n",
       "  <tbody>\n",
       "    <tr>\n",
       "      <th>0</th>\n",
       "      <td>76698</td>\n",
       "      <td>2.130706e+09</td>\n",
       "      <td>280.0</td>\n",
       "      <td>0.0</td>\n",
       "      <td>0.0</td>\n",
       "      <td>0.0</td>\n",
       "      <td>0.0</td>\n",
       "      <td>0.0</td>\n",
       "      <td>0.0</td>\n",
       "      <td>37250.0</td>\n",
       "      <td>...</td>\n",
       "      <td>1240520.0</td>\n",
       "      <td>493384.0</td>\n",
       "      <td>721044.0</td>\n",
       "      <td>469792.0</td>\n",
       "      <td>339156.0</td>\n",
       "      <td>157956.0</td>\n",
       "      <td>73224.0</td>\n",
       "      <td>0.0</td>\n",
       "      <td>0.0</td>\n",
       "      <td>0.0</td>\n",
       "    </tr>\n",
       "    <tr>\n",
       "      <th>1</th>\n",
       "      <td>33058</td>\n",
       "      <td>0.000000e+00</td>\n",
       "      <td>126.0</td>\n",
       "      <td>0.0</td>\n",
       "      <td>0.0</td>\n",
       "      <td>0.0</td>\n",
       "      <td>0.0</td>\n",
       "      <td>0.0</td>\n",
       "      <td>0.0</td>\n",
       "      <td>18254.0</td>\n",
       "      <td>...</td>\n",
       "      <td>421400.0</td>\n",
       "      <td>178064.0</td>\n",
       "      <td>293306.0</td>\n",
       "      <td>245416.0</td>\n",
       "      <td>133654.0</td>\n",
       "      <td>81140.0</td>\n",
       "      <td>97576.0</td>\n",
       "      <td>1500.0</td>\n",
       "      <td>0.0</td>\n",
       "      <td>0.0</td>\n",
       "    </tr>\n",
       "    <tr>\n",
       "      <th>2</th>\n",
       "      <td>41040</td>\n",
       "      <td>2.280000e+02</td>\n",
       "      <td>100.0</td>\n",
       "      <td>0.0</td>\n",
       "      <td>0.0</td>\n",
       "      <td>0.0</td>\n",
       "      <td>0.0</td>\n",
       "      <td>0.0</td>\n",
       "      <td>0.0</td>\n",
       "      <td>1648.0</td>\n",
       "      <td>...</td>\n",
       "      <td>277378.0</td>\n",
       "      <td>159812.0</td>\n",
       "      <td>423992.0</td>\n",
       "      <td>409564.0</td>\n",
       "      <td>320746.0</td>\n",
       "      <td>158022.0</td>\n",
       "      <td>95128.0</td>\n",
       "      <td>514.0</td>\n",
       "      <td>0.0</td>\n",
       "      <td>0.0</td>\n",
       "    </tr>\n",
       "    <tr>\n",
       "      <th>3</th>\n",
       "      <td>12</td>\n",
       "      <td>7.000000e+01</td>\n",
       "      <td>66.0</td>\n",
       "      <td>0.0</td>\n",
       "      <td>10.0</td>\n",
       "      <td>0.0</td>\n",
       "      <td>0.0</td>\n",
       "      <td>0.0</td>\n",
       "      <td>318.0</td>\n",
       "      <td>2212.0</td>\n",
       "      <td>...</td>\n",
       "      <td>240.0</td>\n",
       "      <td>46.0</td>\n",
       "      <td>58.0</td>\n",
       "      <td>44.0</td>\n",
       "      <td>10.0</td>\n",
       "      <td>0.0</td>\n",
       "      <td>0.0</td>\n",
       "      <td>0.0</td>\n",
       "      <td>4.0</td>\n",
       "      <td>32.0</td>\n",
       "    </tr>\n",
       "    <tr>\n",
       "      <th>4</th>\n",
       "      <td>60874</td>\n",
       "      <td>1.368000e+03</td>\n",
       "      <td>458.0</td>\n",
       "      <td>0.0</td>\n",
       "      <td>0.0</td>\n",
       "      <td>0.0</td>\n",
       "      <td>0.0</td>\n",
       "      <td>0.0</td>\n",
       "      <td>0.0</td>\n",
       "      <td>43752.0</td>\n",
       "      <td>...</td>\n",
       "      <td>622012.0</td>\n",
       "      <td>229790.0</td>\n",
       "      <td>405298.0</td>\n",
       "      <td>347188.0</td>\n",
       "      <td>286954.0</td>\n",
       "      <td>311560.0</td>\n",
       "      <td>433954.0</td>\n",
       "      <td>1218.0</td>\n",
       "      <td>0.0</td>\n",
       "      <td>0.0</td>\n",
       "    </tr>\n",
       "  </tbody>\n",
       "</table>\n",
       "<p>5 rows × 160 columns</p>\n",
       "</div>"
      ],
      "text/plain": [
       "   aa_000        ac_000  ad_000  ae_000  af_000  ag_000  ag_001  ag_002  \\\n",
       "0   76698  2.130706e+09   280.0     0.0     0.0     0.0     0.0     0.0   \n",
       "1   33058  0.000000e+00   126.0     0.0     0.0     0.0     0.0     0.0   \n",
       "2   41040  2.280000e+02   100.0     0.0     0.0     0.0     0.0     0.0   \n",
       "3      12  7.000000e+01    66.0     0.0    10.0     0.0     0.0     0.0   \n",
       "4   60874  1.368000e+03   458.0     0.0     0.0     0.0     0.0     0.0   \n",
       "\n",
       "   ag_003   ag_004  ...     ee_002    ee_003    ee_004    ee_005    ee_006  \\\n",
       "0     0.0  37250.0  ...  1240520.0  493384.0  721044.0  469792.0  339156.0   \n",
       "1     0.0  18254.0  ...   421400.0  178064.0  293306.0  245416.0  133654.0   \n",
       "2     0.0   1648.0  ...   277378.0  159812.0  423992.0  409564.0  320746.0   \n",
       "3   318.0   2212.0  ...      240.0      46.0      58.0      44.0      10.0   \n",
       "4     0.0  43752.0  ...   622012.0  229790.0  405298.0  347188.0  286954.0   \n",
       "\n",
       "     ee_007    ee_008  ee_009  ef_000  eg_000  \n",
       "0  157956.0   73224.0     0.0     0.0     0.0  \n",
       "1   81140.0   97576.0  1500.0     0.0     0.0  \n",
       "2  158022.0   95128.0   514.0     0.0     0.0  \n",
       "3       0.0       0.0     0.0     4.0    32.0  \n",
       "4  311560.0  433954.0  1218.0     0.0     0.0  \n",
       "\n",
       "[5 rows x 160 columns]"
      ]
     },
     "execution_count": 12,
     "metadata": {},
     "output_type": "execute_result"
    }
   ],
   "source": [
    "x_train = train_data_encode.drop('class', axis=1)\n",
    "x_train.head()"
   ]
  },
  {
   "cell_type": "code",
   "execution_count": 13,
   "id": "60dbc564",
   "metadata": {
    "scrolled": true
   },
   "outputs": [
    {
     "data": {
      "text/plain": [
       "0    59000\n",
       "1     1000\n",
       "Name: class, dtype: int64"
      ]
     },
     "execution_count": 13,
     "metadata": {},
     "output_type": "execute_result"
    }
   ],
   "source": [
    "y_train = train_data_encode.iloc[:,0]\n",
    "y_train.head()\n",
    "y_train.value_counts()"
   ]
  },
  {
   "cell_type": "markdown",
   "id": "f2823366",
   "metadata": {},
   "source": [
    "**FEATURE SCALING WITH STANDARDIZATION**  \n",
    "For every feature, all value gets rescale to mean value of 0 and a standard deviation of 1."
   ]
  },
  {
   "cell_type": "code",
   "execution_count": 14,
   "id": "853f92bb",
   "metadata": {
    "scrolled": true
   },
   "outputs": [
    {
     "name": "stdout",
     "output_type": "stream",
     "text": [
      "The mean of each attribute in the data is 0\n",
      "The standard deviation of each attribute in the data is 1\n"
     ]
    }
   ],
   "source": [
    "# Define standardization\n",
    "scaler = StandardScaler()\n",
    "\n",
    "# Data rescaled to mean value of 0 and a standard deviation of 1\n",
    "x_train_scaled = pd.DataFrame(scaler.fit_transform(x_train))\n",
    "x_train_scaled\n",
    "\n",
    "# Validate data is rescaled\n",
    "df_mean = x_train_scaled.mean().sum()\n",
    "df_std = x_train_scaled.std().round().max()\n",
    "print(\"The mean of each attribute in the data is\", round(df_mean))\n",
    "print(\"The standard deviation of each attribute in the data is\", round(df_std))"
   ]
  },
  {
   "cell_type": "markdown",
   "id": "b7a67acc",
   "metadata": {},
   "source": [
    "**CLASS BALANCING WITH SMOTE**  \n",
    "Synthetic Minority Oversampling Technique (SMOTE).  \n",
    "Generating new instances from existing minority cases to increase the number of cases in data in a balanced way. "
   ]
  },
  {
   "cell_type": "code",
   "execution_count": 15,
   "id": "33c03a49",
   "metadata": {},
   "outputs": [
    {
     "data": {
      "text/plain": [
       "0    59000\n",
       "1    59000\n",
       "Name: class, dtype: int64"
      ]
     },
     "execution_count": 15,
     "metadata": {},
     "output_type": "execute_result"
    }
   ],
   "source": [
    "# SMOTE\n",
    "sm = SMOTE()\n",
    "x_train_res, y_train_res = sm.fit_resample(x_train_scaled, y_train)\n",
    "\n",
    "# Validate data is resampled\n",
    "y_train_res.value_counts()"
   ]
  },
  {
   "cell_type": "markdown",
   "id": "a7b10d87",
   "metadata": {},
   "source": [
    "### TEST DATA PREPROCESSING"
   ]
  },
  {
   "cell_type": "markdown",
   "id": "de5d746f",
   "metadata": {},
   "source": [
    "**APPLY PREPROCESS MODEL**  \n",
    "Apply same preprocess model from train data to test data."
   ]
  },
  {
   "cell_type": "code",
   "execution_count": 16,
   "id": "833d3ead",
   "metadata": {},
   "outputs": [],
   "source": [
    "# Drop columns that contain missing values more than 30%.\n",
    "test_data_drp30 = test_data.drop(cols_missing_30, axis=1)\n",
    "\n",
    "# Replace leftover missing values with median.\n",
    "test_data_fillna = test_data_drp30.fillna(test_data_drp30.median(), inplace=False)\n",
    "\n",
    "# Replace class label from (neg,pos) to (0,1)\n",
    "test_data_encode = test_data_fillna.replace('neg',0).replace('pos',1)"
   ]
  },
  {
   "cell_type": "markdown",
   "id": "c63755b4",
   "metadata": {},
   "source": [
    "**SPLIT TARGET VARIABLE IN TEST DATA**  \n",
    "Split test data to x_test and y_test"
   ]
  },
  {
   "cell_type": "code",
   "execution_count": 17,
   "id": "03300815",
   "metadata": {},
   "outputs": [
    {
     "data": {
      "text/html": [
       "<div>\n",
       "<style scoped>\n",
       "    .dataframe tbody tr th:only-of-type {\n",
       "        vertical-align: middle;\n",
       "    }\n",
       "\n",
       "    .dataframe tbody tr th {\n",
       "        vertical-align: top;\n",
       "    }\n",
       "\n",
       "    .dataframe thead th {\n",
       "        text-align: right;\n",
       "    }\n",
       "</style>\n",
       "<table border=\"1\" class=\"dataframe\">\n",
       "  <thead>\n",
       "    <tr style=\"text-align: right;\">\n",
       "      <th></th>\n",
       "      <th>aa_000</th>\n",
       "      <th>ac_000</th>\n",
       "      <th>ad_000</th>\n",
       "      <th>ae_000</th>\n",
       "      <th>af_000</th>\n",
       "      <th>ag_000</th>\n",
       "      <th>ag_001</th>\n",
       "      <th>ag_002</th>\n",
       "      <th>ag_003</th>\n",
       "      <th>ag_004</th>\n",
       "      <th>...</th>\n",
       "      <th>ee_002</th>\n",
       "      <th>ee_003</th>\n",
       "      <th>ee_004</th>\n",
       "      <th>ee_005</th>\n",
       "      <th>ee_006</th>\n",
       "      <th>ee_007</th>\n",
       "      <th>ee_008</th>\n",
       "      <th>ee_009</th>\n",
       "      <th>ef_000</th>\n",
       "      <th>eg_000</th>\n",
       "    </tr>\n",
       "  </thead>\n",
       "  <tbody>\n",
       "    <tr>\n",
       "      <th>0</th>\n",
       "      <td>60</td>\n",
       "      <td>20.0</td>\n",
       "      <td>12.0</td>\n",
       "      <td>0.0</td>\n",
       "      <td>0.0</td>\n",
       "      <td>0.0</td>\n",
       "      <td>0.0</td>\n",
       "      <td>0.0</td>\n",
       "      <td>2682.0</td>\n",
       "      <td>4736.0</td>\n",
       "      <td>...</td>\n",
       "      <td>1098.0</td>\n",
       "      <td>138.0</td>\n",
       "      <td>412.0</td>\n",
       "      <td>654.0</td>\n",
       "      <td>78.0</td>\n",
       "      <td>88.0</td>\n",
       "      <td>0.0</td>\n",
       "      <td>0.0</td>\n",
       "      <td>0.0</td>\n",
       "      <td>0.0</td>\n",
       "    </tr>\n",
       "    <tr>\n",
       "      <th>1</th>\n",
       "      <td>82</td>\n",
       "      <td>68.0</td>\n",
       "      <td>40.0</td>\n",
       "      <td>0.0</td>\n",
       "      <td>0.0</td>\n",
       "      <td>0.0</td>\n",
       "      <td>0.0</td>\n",
       "      <td>0.0</td>\n",
       "      <td>0.0</td>\n",
       "      <td>748.0</td>\n",
       "      <td>...</td>\n",
       "      <td>1068.0</td>\n",
       "      <td>276.0</td>\n",
       "      <td>1620.0</td>\n",
       "      <td>116.0</td>\n",
       "      <td>86.0</td>\n",
       "      <td>462.0</td>\n",
       "      <td>0.0</td>\n",
       "      <td>0.0</td>\n",
       "      <td>0.0</td>\n",
       "      <td>0.0</td>\n",
       "    </tr>\n",
       "    <tr>\n",
       "      <th>2</th>\n",
       "      <td>66002</td>\n",
       "      <td>212.0</td>\n",
       "      <td>112.0</td>\n",
       "      <td>0.0</td>\n",
       "      <td>0.0</td>\n",
       "      <td>0.0</td>\n",
       "      <td>0.0</td>\n",
       "      <td>0.0</td>\n",
       "      <td>199486.0</td>\n",
       "      <td>1358536.0</td>\n",
       "      <td>...</td>\n",
       "      <td>495076.0</td>\n",
       "      <td>380368.0</td>\n",
       "      <td>440134.0</td>\n",
       "      <td>269556.0</td>\n",
       "      <td>1315022.0</td>\n",
       "      <td>153680.0</td>\n",
       "      <td>516.0</td>\n",
       "      <td>0.0</td>\n",
       "      <td>0.0</td>\n",
       "      <td>0.0</td>\n",
       "    </tr>\n",
       "    <tr>\n",
       "      <th>3</th>\n",
       "      <td>59816</td>\n",
       "      <td>1010.0</td>\n",
       "      <td>936.0</td>\n",
       "      <td>0.0</td>\n",
       "      <td>0.0</td>\n",
       "      <td>0.0</td>\n",
       "      <td>0.0</td>\n",
       "      <td>0.0</td>\n",
       "      <td>0.0</td>\n",
       "      <td>123922.0</td>\n",
       "      <td>...</td>\n",
       "      <td>540820.0</td>\n",
       "      <td>243270.0</td>\n",
       "      <td>483302.0</td>\n",
       "      <td>485332.0</td>\n",
       "      <td>431376.0</td>\n",
       "      <td>210074.0</td>\n",
       "      <td>281662.0</td>\n",
       "      <td>3232.0</td>\n",
       "      <td>0.0</td>\n",
       "      <td>0.0</td>\n",
       "    </tr>\n",
       "    <tr>\n",
       "      <th>4</th>\n",
       "      <td>1814</td>\n",
       "      <td>156.0</td>\n",
       "      <td>140.0</td>\n",
       "      <td>0.0</td>\n",
       "      <td>0.0</td>\n",
       "      <td>0.0</td>\n",
       "      <td>0.0</td>\n",
       "      <td>0.0</td>\n",
       "      <td>0.0</td>\n",
       "      <td>72.0</td>\n",
       "      <td>...</td>\n",
       "      <td>7646.0</td>\n",
       "      <td>4144.0</td>\n",
       "      <td>18466.0</td>\n",
       "      <td>49782.0</td>\n",
       "      <td>3176.0</td>\n",
       "      <td>482.0</td>\n",
       "      <td>76.0</td>\n",
       "      <td>0.0</td>\n",
       "      <td>0.0</td>\n",
       "      <td>0.0</td>\n",
       "    </tr>\n",
       "  </tbody>\n",
       "</table>\n",
       "<p>5 rows × 160 columns</p>\n",
       "</div>"
      ],
      "text/plain": [
       "   aa_000  ac_000  ad_000  ae_000  af_000  ag_000  ag_001  ag_002    ag_003  \\\n",
       "0      60    20.0    12.0     0.0     0.0     0.0     0.0     0.0    2682.0   \n",
       "1      82    68.0    40.0     0.0     0.0     0.0     0.0     0.0       0.0   \n",
       "2   66002   212.0   112.0     0.0     0.0     0.0     0.0     0.0  199486.0   \n",
       "3   59816  1010.0   936.0     0.0     0.0     0.0     0.0     0.0       0.0   \n",
       "4    1814   156.0   140.0     0.0     0.0     0.0     0.0     0.0       0.0   \n",
       "\n",
       "      ag_004  ...    ee_002    ee_003    ee_004    ee_005     ee_006  \\\n",
       "0     4736.0  ...    1098.0     138.0     412.0     654.0       78.0   \n",
       "1      748.0  ...    1068.0     276.0    1620.0     116.0       86.0   \n",
       "2  1358536.0  ...  495076.0  380368.0  440134.0  269556.0  1315022.0   \n",
       "3   123922.0  ...  540820.0  243270.0  483302.0  485332.0   431376.0   \n",
       "4       72.0  ...    7646.0    4144.0   18466.0   49782.0     3176.0   \n",
       "\n",
       "     ee_007    ee_008  ee_009  ef_000  eg_000  \n",
       "0      88.0       0.0     0.0     0.0     0.0  \n",
       "1     462.0       0.0     0.0     0.0     0.0  \n",
       "2  153680.0     516.0     0.0     0.0     0.0  \n",
       "3  210074.0  281662.0  3232.0     0.0     0.0  \n",
       "4     482.0      76.0     0.0     0.0     0.0  \n",
       "\n",
       "[5 rows x 160 columns]"
      ]
     },
     "execution_count": 17,
     "metadata": {},
     "output_type": "execute_result"
    }
   ],
   "source": [
    "x_test = test_data_encode.drop('class', axis=1)\n",
    "x_test.head()"
   ]
  },
  {
   "cell_type": "code",
   "execution_count": 18,
   "id": "75c69ab9",
   "metadata": {
    "scrolled": true
   },
   "outputs": [
    {
     "data": {
      "text/plain": [
       "0    0\n",
       "1    0\n",
       "2    0\n",
       "3    0\n",
       "4    0\n",
       "Name: class, dtype: int64"
      ]
     },
     "execution_count": 18,
     "metadata": {},
     "output_type": "execute_result"
    }
   ],
   "source": [
    "y_test = test_data_encode.iloc[:,0]\n",
    "y_test.head()"
   ]
  },
  {
   "cell_type": "code",
   "execution_count": 19,
   "id": "5ef6d0e9",
   "metadata": {},
   "outputs": [],
   "source": [
    "# Data rescaled to mean value of 0 and a standard deviation of 1\n",
    "x_test_scaled = pd.DataFrame(scaler.fit_transform(x_test))"
   ]
  },
  {
   "cell_type": "code",
   "execution_count": 20,
   "id": "740131cb",
   "metadata": {},
   "outputs": [],
   "source": [
    "x_train_final = x_train_res\n",
    "y_train_final = y_train_res\n",
    "x_test_final = x_test_scaled\n",
    "y_test_final = y_test"
   ]
  },
  {
   "cell_type": "markdown",
   "id": "42a6f4e3",
   "metadata": {},
   "source": [
    "## 2. MODEL DEVELOPMENT - LOGISTIC REGRESSION"
   ]
  },
  {
   "cell_type": "markdown",
   "id": "0786b14b",
   "metadata": {},
   "source": [
    "**LOGISTIC REGRESSION MODEL ACCURACY BEFORE FEATURE SELECTION**"
   ]
  },
  {
   "cell_type": "code",
   "execution_count": 33,
   "id": "f21238a1",
   "metadata": {},
   "outputs": [
    {
     "name": "stdout",
     "output_type": "stream",
     "text": [
      "Model Accuracy without Feature Selection: 97.3937%\n"
     ]
    }
   ],
   "source": [
    "model = LogisticRegression(max_iter=1000)\n",
    "model.fit(x_train_final, y_train_final)\n",
    "model_score = model.score(x_test_final, y_test_final) * 100\n",
    "\n",
    "print(\"Model Accuracy without Feature Selection: {:.4f}%\".format(model_score))"
   ]
  },
  {
   "cell_type": "markdown",
   "id": "7882c2e6",
   "metadata": {},
   "source": [
    "**CONFUSION MATRIX BEFORE FEATURE SELECTION**"
   ]
  },
  {
   "cell_type": "code",
   "execution_count": 34,
   "id": "45869439",
   "metadata": {},
   "outputs": [
    {
     "data": {
      "text/plain": [
       "array([[15265,   360],\n",
       "       [   57,   318]], dtype=int64)"
      ]
     },
     "execution_count": 34,
     "metadata": {},
     "output_type": "execute_result"
    }
   ],
   "source": [
    "pred = model.predict(x_test_final)\n",
    "\n",
    "confusion_matrix(y_test_final, pred)"
   ]
  },
  {
   "cell_type": "markdown",
   "id": "f2335f08",
   "metadata": {},
   "source": [
    "**CLASSFICATION REPORT BEFORE FEATURE SELECTION**"
   ]
  },
  {
   "cell_type": "code",
   "execution_count": 35,
   "id": "046d39b3",
   "metadata": {
    "scrolled": true
   },
   "outputs": [
    {
     "name": "stdout",
     "output_type": "stream",
     "text": [
      "              precision    recall  f1-score   support\n",
      "\n",
      "           0       1.00      0.98      0.99     15625\n",
      "           1       0.47      0.85      0.60       375\n",
      "\n",
      "    accuracy                           0.97     16000\n",
      "   macro avg       0.73      0.91      0.80     16000\n",
      "weighted avg       0.98      0.97      0.98     16000\n",
      "\n"
     ]
    }
   ],
   "source": [
    "# Classification Report\n",
    "print(classification_report(y_test_final, pred))"
   ]
  },
  {
   "cell_type": "markdown",
   "id": "686fce53",
   "metadata": {},
   "source": [
    "**TOTAL COST BEFORE FEATURE SELECTION**"
   ]
  },
  {
   "cell_type": "code",
   "execution_count": 52,
   "id": "938f8229",
   "metadata": {},
   "outputs": [
    {
     "data": {
      "text/plain": [
       "180570"
      ]
     },
     "execution_count": 52,
     "metadata": {},
     "output_type": "execute_result"
    }
   ],
   "source": [
    "# Total Cost before Feature Selection\n",
    "# Good condition but predicted as faulty, cost of 10 for maintainance fee\n",
    "cost_1 = 10\n",
    "# Faulty but predicted as good condition, cost of 500 for maintainance fee\n",
    "cost_2 = 500\n",
    "\n",
    "tn, fp, fn, tp = confusion_matrix(y_test_final, pred).ravel()\n",
    "cost = fn * cost_1 + fp * cost_2\n",
    "cost"
   ]
  },
  {
   "cell_type": "markdown",
   "id": "7a82b257",
   "metadata": {},
   "source": [
    "**FEATURE SELECTION**"
   ]
  },
  {
   "cell_type": "code",
   "execution_count": 54,
   "id": "35d99efd",
   "metadata": {
    "scrolled": true
   },
   "outputs": [
    {
     "data": {
      "text/plain": [
       "Int64Index([  0,   5,   6,   7,  10,  11,  15,  21,  22,  23,  24,  33,  37,\n",
       "             38,  39,  45,  46,  50,  51,  61,  66,  67,  70,  71,  74,  75,\n",
       "             78,  79,  87,  91,  92,  93,  95,  96, 103, 104, 108, 111, 120,\n",
       "            125, 128, 138, 148, 149, 150, 153, 154, 155],\n",
       "           dtype='int64')"
      ]
     },
     "execution_count": 54,
     "metadata": {},
     "output_type": "execute_result"
    }
   ],
   "source": [
    "# Selecting the Best important features according to Logistic Regression using SelectFromModel\n",
    "sfm_logreg = SelectFromModel(estimator=LogisticRegression(max_iter=1000))\n",
    "sfm_logreg.fit(x_train_final, y_train_final)\n",
    "feature_selected_tmp = x_train_final.columns[sfm_logreg.get_support()]\n",
    "feature_selected_tmp"
   ]
  },
  {
   "cell_type": "code",
   "execution_count": 38,
   "id": "0dc49b2c",
   "metadata": {
    "scrolled": true
   },
   "outputs": [
    {
     "data": {
      "text/html": [
       "<div>\n",
       "<style scoped>\n",
       "    .dataframe tbody tr th:only-of-type {\n",
       "        vertical-align: middle;\n",
       "    }\n",
       "\n",
       "    .dataframe tbody tr th {\n",
       "        vertical-align: top;\n",
       "    }\n",
       "\n",
       "    .dataframe thead th {\n",
       "        text-align: right;\n",
       "    }\n",
       "</style>\n",
       "<table border=\"1\" class=\"dataframe\">\n",
       "  <thead>\n",
       "    <tr style=\"text-align: right;\">\n",
       "      <th></th>\n",
       "      <th>0</th>\n",
       "      <th>5</th>\n",
       "      <th>6</th>\n",
       "      <th>7</th>\n",
       "      <th>10</th>\n",
       "      <th>11</th>\n",
       "      <th>15</th>\n",
       "      <th>21</th>\n",
       "      <th>22</th>\n",
       "      <th>23</th>\n",
       "      <th>...</th>\n",
       "      <th>120</th>\n",
       "      <th>125</th>\n",
       "      <th>128</th>\n",
       "      <th>138</th>\n",
       "      <th>148</th>\n",
       "      <th>149</th>\n",
       "      <th>150</th>\n",
       "      <th>153</th>\n",
       "      <th>154</th>\n",
       "      <th>155</th>\n",
       "    </tr>\n",
       "  </thead>\n",
       "  <tbody>\n",
       "    <tr>\n",
       "      <th>0</th>\n",
       "      <td>0.119381</td>\n",
       "      <td>-0.010762</td>\n",
       "      <td>-0.02837</td>\n",
       "      <td>-0.056929</td>\n",
       "      <td>0.103186</td>\n",
       "      <td>0.518102</td>\n",
       "      <td>0.180223</td>\n",
       "      <td>0.192095</td>\n",
       "      <td>0.098135</td>\n",
       "      <td>0.250203</td>\n",
       "      <td>...</td>\n",
       "      <td>0.118646</td>\n",
       "      <td>-0.025984</td>\n",
       "      <td>-0.008511</td>\n",
       "      <td>0.691140</td>\n",
       "      <td>0.098933</td>\n",
       "      <td>0.363023</td>\n",
       "      <td>0.693832</td>\n",
       "      <td>0.070072</td>\n",
       "      <td>0.008264</td>\n",
       "      <td>-0.107586</td>\n",
       "    </tr>\n",
       "    <tr>\n",
       "      <th>1</th>\n",
       "      <td>-0.180697</td>\n",
       "      <td>-0.010762</td>\n",
       "      <td>-0.02837</td>\n",
       "      <td>-0.056929</td>\n",
       "      <td>-0.136995</td>\n",
       "      <td>0.018291</td>\n",
       "      <td>-0.097959</td>\n",
       "      <td>-0.114016</td>\n",
       "      <td>-0.126996</td>\n",
       "      <td>0.028432</td>\n",
       "      <td>...</td>\n",
       "      <td>-0.159759</td>\n",
       "      <td>-0.025984</td>\n",
       "      <td>-0.008511</td>\n",
       "      <td>0.035477</td>\n",
       "      <td>-0.026471</td>\n",
       "      <td>0.017670</td>\n",
       "      <td>-0.018901</td>\n",
       "      <td>-0.131171</td>\n",
       "      <td>-0.184975</td>\n",
       "      <td>-0.152281</td>\n",
       "    </tr>\n",
       "    <tr>\n",
       "      <th>2</th>\n",
       "      <td>-0.125811</td>\n",
       "      <td>-0.010762</td>\n",
       "      <td>-0.02837</td>\n",
       "      <td>-0.056929</td>\n",
       "      <td>-0.224093</td>\n",
       "      <td>0.060103</td>\n",
       "      <td>-0.136196</td>\n",
       "      <td>-0.138391</td>\n",
       "      <td>-0.120147</td>\n",
       "      <td>-0.226663</td>\n",
       "      <td>...</td>\n",
       "      <td>-0.159759</td>\n",
       "      <td>-0.025984</td>\n",
       "      <td>-0.008511</td>\n",
       "      <td>-0.137559</td>\n",
       "      <td>-0.193951</td>\n",
       "      <td>-0.127386</td>\n",
       "      <td>-0.144217</td>\n",
       "      <td>0.016053</td>\n",
       "      <td>-0.009047</td>\n",
       "      <td>-0.107547</td>\n",
       "    </tr>\n",
       "    <tr>\n",
       "      <th>3</th>\n",
       "      <td>-0.407928</td>\n",
       "      <td>-0.010762</td>\n",
       "      <td>-0.02837</td>\n",
       "      <td>-0.056929</td>\n",
       "      <td>-0.337275</td>\n",
       "      <td>-0.423800</td>\n",
       "      <td>-0.431938</td>\n",
       "      <td>-0.443135</td>\n",
       "      <td>-0.439288</td>\n",
       "      <td>-0.321057</td>\n",
       "      <td>...</td>\n",
       "      <td>-0.159759</td>\n",
       "      <td>-0.025984</td>\n",
       "      <td>-0.008511</td>\n",
       "      <td>-0.455679</td>\n",
       "      <td>-0.300630</td>\n",
       "      <td>-0.304145</td>\n",
       "      <td>-0.385361</td>\n",
       "      <td>-0.351244</td>\n",
       "      <td>-0.310645</td>\n",
       "      <td>-0.199493</td>\n",
       "    </tr>\n",
       "    <tr>\n",
       "      <th>4</th>\n",
       "      <td>0.010572</td>\n",
       "      <td>-0.010762</td>\n",
       "      <td>-0.02837</td>\n",
       "      <td>-0.056929</td>\n",
       "      <td>0.267632</td>\n",
       "      <td>0.038748</td>\n",
       "      <td>0.041496</td>\n",
       "      <td>-0.027601</td>\n",
       "      <td>-0.054547</td>\n",
       "      <td>0.019820</td>\n",
       "      <td>...</td>\n",
       "      <td>-0.159759</td>\n",
       "      <td>-0.025984</td>\n",
       "      <td>-0.008511</td>\n",
       "      <td>0.607223</td>\n",
       "      <td>-0.134566</td>\n",
       "      <td>0.048997</td>\n",
       "      <td>0.155656</td>\n",
       "      <td>-0.039892</td>\n",
       "      <td>-0.040823</td>\n",
       "      <td>-0.018211</td>\n",
       "    </tr>\n",
       "  </tbody>\n",
       "</table>\n",
       "<p>5 rows × 48 columns</p>\n",
       "</div>"
      ],
      "text/plain": [
       "        0         5        6         7         10        11        15   \\\n",
       "0  0.119381 -0.010762 -0.02837 -0.056929  0.103186  0.518102  0.180223   \n",
       "1 -0.180697 -0.010762 -0.02837 -0.056929 -0.136995  0.018291 -0.097959   \n",
       "2 -0.125811 -0.010762 -0.02837 -0.056929 -0.224093  0.060103 -0.136196   \n",
       "3 -0.407928 -0.010762 -0.02837 -0.056929 -0.337275 -0.423800 -0.431938   \n",
       "4  0.010572 -0.010762 -0.02837 -0.056929  0.267632  0.038748  0.041496   \n",
       "\n",
       "        21        22        23   ...       120       125       128       138  \\\n",
       "0  0.192095  0.098135  0.250203  ...  0.118646 -0.025984 -0.008511  0.691140   \n",
       "1 -0.114016 -0.126996  0.028432  ... -0.159759 -0.025984 -0.008511  0.035477   \n",
       "2 -0.138391 -0.120147 -0.226663  ... -0.159759 -0.025984 -0.008511 -0.137559   \n",
       "3 -0.443135 -0.439288 -0.321057  ... -0.159759 -0.025984 -0.008511 -0.455679   \n",
       "4 -0.027601 -0.054547  0.019820  ... -0.159759 -0.025984 -0.008511  0.607223   \n",
       "\n",
       "        148       149       150       153       154       155  \n",
       "0  0.098933  0.363023  0.693832  0.070072  0.008264 -0.107586  \n",
       "1 -0.026471  0.017670 -0.018901 -0.131171 -0.184975 -0.152281  \n",
       "2 -0.193951 -0.127386 -0.144217  0.016053 -0.009047 -0.107547  \n",
       "3 -0.300630 -0.304145 -0.385361 -0.351244 -0.310645 -0.199493  \n",
       "4 -0.134566  0.048997  0.155656 -0.039892 -0.040823 -0.018211  \n",
       "\n",
       "[5 rows x 48 columns]"
      ]
     },
     "execution_count": 38,
     "metadata": {},
     "output_type": "execute_result"
    }
   ],
   "source": [
    "feature_selected = feature_selected_tmp\n",
    "x_train_final_fs = x_train_final.iloc[:,feature_selected]\n",
    "x_train_final_fs.head()"
   ]
  },
  {
   "cell_type": "code",
   "execution_count": 39,
   "id": "a60ab9da",
   "metadata": {
    "scrolled": false
   },
   "outputs": [
    {
     "data": {
      "text/html": [
       "<div>\n",
       "<style scoped>\n",
       "    .dataframe tbody tr th:only-of-type {\n",
       "        vertical-align: middle;\n",
       "    }\n",
       "\n",
       "    .dataframe tbody tr th {\n",
       "        vertical-align: top;\n",
       "    }\n",
       "\n",
       "    .dataframe thead th {\n",
       "        text-align: right;\n",
       "    }\n",
       "</style>\n",
       "<table border=\"1\" class=\"dataframe\">\n",
       "  <thead>\n",
       "    <tr style=\"text-align: right;\">\n",
       "      <th></th>\n",
       "      <th>0</th>\n",
       "      <th>5</th>\n",
       "      <th>6</th>\n",
       "      <th>7</th>\n",
       "      <th>10</th>\n",
       "      <th>11</th>\n",
       "      <th>15</th>\n",
       "      <th>21</th>\n",
       "      <th>22</th>\n",
       "      <th>23</th>\n",
       "      <th>...</th>\n",
       "      <th>120</th>\n",
       "      <th>125</th>\n",
       "      <th>128</th>\n",
       "      <th>138</th>\n",
       "      <th>148</th>\n",
       "      <th>149</th>\n",
       "      <th>150</th>\n",
       "      <th>153</th>\n",
       "      <th>154</th>\n",
       "      <th>155</th>\n",
       "    </tr>\n",
       "  </thead>\n",
       "  <tbody>\n",
       "    <tr>\n",
       "      <th>0</th>\n",
       "      <td>-0.134924</td>\n",
       "      <td>-0.018614</td>\n",
       "      <td>-0.02299</td>\n",
       "      <td>-0.058136</td>\n",
       "      <td>-0.320166</td>\n",
       "      <td>-0.417622</td>\n",
       "      <td>-0.420084</td>\n",
       "      <td>-0.430768</td>\n",
       "      <td>-0.426580</td>\n",
       "      <td>-0.280959</td>\n",
       "      <td>...</td>\n",
       "      <td>-0.471993</td>\n",
       "      <td>-0.031956</td>\n",
       "      <td>-0.017995</td>\n",
       "      <td>-0.435046</td>\n",
       "      <td>-0.269070</td>\n",
       "      <td>-0.314701</td>\n",
       "      <td>-0.369541</td>\n",
       "      <td>-0.337213</td>\n",
       "      <td>-0.295763</td>\n",
       "      <td>-0.215305</td>\n",
       "    </tr>\n",
       "    <tr>\n",
       "      <th>1</th>\n",
       "      <td>-0.134881</td>\n",
       "      <td>-0.018614</td>\n",
       "      <td>-0.02299</td>\n",
       "      <td>-0.058136</td>\n",
       "      <td>-0.317756</td>\n",
       "      <td>-0.417179</td>\n",
       "      <td>-0.419804</td>\n",
       "      <td>-0.429385</td>\n",
       "      <td>-0.425405</td>\n",
       "      <td>-0.306654</td>\n",
       "      <td>...</td>\n",
       "      <td>-0.471993</td>\n",
       "      <td>-0.031956</td>\n",
       "      <td>-0.017995</td>\n",
       "      <td>-0.435157</td>\n",
       "      <td>-0.268186</td>\n",
       "      <td>-0.314640</td>\n",
       "      <td>-0.369565</td>\n",
       "      <td>-0.337643</td>\n",
       "      <td>-0.295757</td>\n",
       "      <td>-0.215074</td>\n",
       "    </tr>\n",
       "    <tr>\n",
       "      <th>2</th>\n",
       "      <td>-0.003962</td>\n",
       "      <td>-0.018614</td>\n",
       "      <td>-0.02299</td>\n",
       "      <td>-0.058136</td>\n",
       "      <td>0.217536</td>\n",
       "      <td>-0.306038</td>\n",
       "      <td>-0.003564</td>\n",
       "      <td>-0.004347</td>\n",
       "      <td>0.017304</td>\n",
       "      <td>-0.031999</td>\n",
       "      <td>...</td>\n",
       "      <td>-0.471993</td>\n",
       "      <td>-0.031956</td>\n",
       "      <td>-0.017995</td>\n",
       "      <td>0.095922</td>\n",
       "      <td>-0.133630</td>\n",
       "      <td>-0.103304</td>\n",
       "      <td>0.026325</td>\n",
       "      <td>-0.122468</td>\n",
       "      <td>0.806803</td>\n",
       "      <td>-0.120439</td>\n",
       "    </tr>\n",
       "    <tr>\n",
       "      <th>3</th>\n",
       "      <td>-0.016248</td>\n",
       "      <td>-0.018614</td>\n",
       "      <td>-0.02299</td>\n",
       "      <td>-0.058136</td>\n",
       "      <td>-0.049612</td>\n",
       "      <td>-0.002281</td>\n",
       "      <td>-0.029786</td>\n",
       "      <td>-0.011362</td>\n",
       "      <td>-0.014943</td>\n",
       "      <td>-0.122118</td>\n",
       "      <td>...</td>\n",
       "      <td>1.753134</td>\n",
       "      <td>-0.031956</td>\n",
       "      <td>-0.017995</td>\n",
       "      <td>0.157886</td>\n",
       "      <td>-0.041932</td>\n",
       "      <td>-0.042670</td>\n",
       "      <td>0.062984</td>\n",
       "      <td>0.049851</td>\n",
       "      <td>0.065875</td>\n",
       "      <td>-0.085608</td>\n",
       "    </tr>\n",
       "    <tr>\n",
       "      <th>4</th>\n",
       "      <td>-0.131441</td>\n",
       "      <td>-0.018614</td>\n",
       "      <td>-0.02299</td>\n",
       "      <td>-0.058136</td>\n",
       "      <td>-0.316285</td>\n",
       "      <td>-0.397578</td>\n",
       "      <td>-0.410154</td>\n",
       "      <td>-0.420609</td>\n",
       "      <td>-0.415701</td>\n",
       "      <td>-0.309809</td>\n",
       "      <td>...</td>\n",
       "      <td>-0.471993</td>\n",
       "      <td>-0.031956</td>\n",
       "      <td>-0.017995</td>\n",
       "      <td>-0.427279</td>\n",
       "      <td>-0.268125</td>\n",
       "      <td>-0.312013</td>\n",
       "      <td>-0.364293</td>\n",
       "      <td>-0.297980</td>\n",
       "      <td>-0.293166</td>\n",
       "      <td>-0.215062</td>\n",
       "    </tr>\n",
       "  </tbody>\n",
       "</table>\n",
       "<p>5 rows × 48 columns</p>\n",
       "</div>"
      ],
      "text/plain": [
       "        0         5        6         7         10        11        15   \\\n",
       "0 -0.134924 -0.018614 -0.02299 -0.058136 -0.320166 -0.417622 -0.420084   \n",
       "1 -0.134881 -0.018614 -0.02299 -0.058136 -0.317756 -0.417179 -0.419804   \n",
       "2 -0.003962 -0.018614 -0.02299 -0.058136  0.217536 -0.306038 -0.003564   \n",
       "3 -0.016248 -0.018614 -0.02299 -0.058136 -0.049612 -0.002281 -0.029786   \n",
       "4 -0.131441 -0.018614 -0.02299 -0.058136 -0.316285 -0.397578 -0.410154   \n",
       "\n",
       "        21        22        23   ...       120       125       128       138  \\\n",
       "0 -0.430768 -0.426580 -0.280959  ... -0.471993 -0.031956 -0.017995 -0.435046   \n",
       "1 -0.429385 -0.425405 -0.306654  ... -0.471993 -0.031956 -0.017995 -0.435157   \n",
       "2 -0.004347  0.017304 -0.031999  ... -0.471993 -0.031956 -0.017995  0.095922   \n",
       "3 -0.011362 -0.014943 -0.122118  ...  1.753134 -0.031956 -0.017995  0.157886   \n",
       "4 -0.420609 -0.415701 -0.309809  ... -0.471993 -0.031956 -0.017995 -0.427279   \n",
       "\n",
       "        148       149       150       153       154       155  \n",
       "0 -0.269070 -0.314701 -0.369541 -0.337213 -0.295763 -0.215305  \n",
       "1 -0.268186 -0.314640 -0.369565 -0.337643 -0.295757 -0.215074  \n",
       "2 -0.133630 -0.103304  0.026325 -0.122468  0.806803 -0.120439  \n",
       "3 -0.041932 -0.042670  0.062984  0.049851  0.065875 -0.085608  \n",
       "4 -0.268125 -0.312013 -0.364293 -0.297980 -0.293166 -0.215062  \n",
       "\n",
       "[5 rows x 48 columns]"
      ]
     },
     "execution_count": 39,
     "metadata": {},
     "output_type": "execute_result"
    }
   ],
   "source": [
    "x_test_final_fs = x_test_final.iloc[:,feature_selected]\n",
    "x_test_final_fs.head()"
   ]
  },
  {
   "cell_type": "markdown",
   "id": "bf0ebddf",
   "metadata": {},
   "source": [
    "**LOGISTIC REGRESSION MODEL ACCURACY AFTER FEATURE SELECTION**"
   ]
  },
  {
   "cell_type": "code",
   "execution_count": 40,
   "id": "4c368f97",
   "metadata": {
    "scrolled": false
   },
   "outputs": [
    {
     "name": "stdout",
     "output_type": "stream",
     "text": [
      "Model Accuracy without Feature Selection: 97.3937%\n",
      "Test Accuracy with Feature Selection: 97.8312%\n"
     ]
    }
   ],
   "source": [
    "model_fs = LogisticRegression(max_iter=1000)\n",
    "model_fs.fit(x_train_final_fs, y_train_final)\n",
    "model_fs_score = model_fs.score(x_test_final_fs, y_test_final) * 100\n",
    "\n",
    "print(\"Model Accuracy without Feature Selection: {:.4f}%\".format(model_score))\n",
    "print(\"Model Accuracy with Feature Selection: {:.4f}%\".format(model_fs_score))"
   ]
  },
  {
   "cell_type": "markdown",
   "id": "e64f7da1",
   "metadata": {},
   "source": [
    "**CONFUSION MATRIX AFTER FEATURE SELECTION**"
   ]
  },
  {
   "cell_type": "code",
   "execution_count": 41,
   "id": "5d946f2f",
   "metadata": {},
   "outputs": [
    {
     "data": {
      "text/plain": [
       "array([[15325,   300],\n",
       "       [   47,   328]], dtype=int64)"
      ]
     },
     "execution_count": 41,
     "metadata": {},
     "output_type": "execute_result"
    }
   ],
   "source": [
    "pred_fs = model_fs.predict(x_test_final_fs)\n",
    "confusion_matrix(y_test_final, pred_fs)"
   ]
  },
  {
   "cell_type": "markdown",
   "id": "4516f276",
   "metadata": {},
   "source": [
    "**CLASSIFICATION REPORT AFTER FEATURE SELECTION**"
   ]
  },
  {
   "cell_type": "code",
   "execution_count": 42,
   "id": "70646fc3",
   "metadata": {},
   "outputs": [
    {
     "name": "stdout",
     "output_type": "stream",
     "text": [
      "              precision    recall  f1-score   support\n",
      "\n",
      "           0       1.00      0.98      0.99     15625\n",
      "           1       0.52      0.87      0.65       375\n",
      "\n",
      "    accuracy                           0.98     16000\n",
      "   macro avg       0.76      0.93      0.82     16000\n",
      "weighted avg       0.99      0.98      0.98     16000\n",
      "\n"
     ]
    }
   ],
   "source": [
    "# Classification Report after feature selection\n",
    "print(classification_report(y_test_final, pred_fs))"
   ]
  },
  {
   "cell_type": "markdown",
   "id": "d90a9954",
   "metadata": {},
   "source": [
    "**TOTAL COST AFTER FEATURE SELECTION**"
   ]
  },
  {
   "cell_type": "code",
   "execution_count": 53,
   "id": "2c62626f",
   "metadata": {},
   "outputs": [
    {
     "data": {
      "text/plain": [
       "150470"
      ]
     },
     "execution_count": 53,
     "metadata": {},
     "output_type": "execute_result"
    }
   ],
   "source": [
    "# Total Cost after Feature Selection\n",
    "# Good condition but predicted as faulty, cost of 10 for maintainance fee\n",
    "cost_1 = 10\n",
    "# Faulty but predicted as good condition, cost of 500 for maintainance fee\n",
    "cost_2 = 500\n",
    "\n",
    "tn, fp, fn, tp = confusion_matrix(y_test_final, pred_fs).ravel()\n",
    "cost_fs = fn * cost_1 + fp * cost_2\n",
    "cost_fs"
   ]
  },
  {
   "cell_type": "markdown",
   "id": "f57ccd59",
   "metadata": {},
   "source": [
    "**SUMMARY**"
   ]
  },
  {
   "cell_type": "code",
   "execution_count": 51,
   "id": "31a18bac",
   "metadata": {},
   "outputs": [
    {
     "name": "stdout",
     "output_type": "stream",
     "text": [
      "Model Accuracy without Feature Selection: 97.3937%\n",
      "Model Accuracy with Feature Selection: 97.8312%\n",
      "Total Cost without Feature Selection: 150470\n",
      "Total Cost with Feature Selection: 150470\n"
     ]
    }
   ],
   "source": [
    "print(\"Model Accuracy without Feature Selection: {:.4f}%\".format(model_score))\n",
    "print(\"Model Accuracy with Feature Selection: {:.4f}%\".format(model_fs_score))\n",
    "\n",
    "print(\"Total Cost without Feature Selection: {:.0f}\".format(cost))\n",
    "print(\"Total Cost with Feature Selection: {:.0f}\".format(cost_fs))"
   ]
  },
  {
   "cell_type": "code",
   "execution_count": null,
   "id": "403dc8d1",
   "metadata": {},
   "outputs": [],
   "source": []
  }
 ],
 "metadata": {
  "kernelspec": {
   "display_name": "Python 3",
   "language": "python",
   "name": "python3"
  },
  "language_info": {
   "codemirror_mode": {
    "name": "ipython",
    "version": 3
   },
   "file_extension": ".py",
   "mimetype": "text/x-python",
   "name": "python",
   "nbconvert_exporter": "python",
   "pygments_lexer": "ipython3",
   "version": "3.8.8"
  }
 },
 "nbformat": 4,
 "nbformat_minor": 5
}
